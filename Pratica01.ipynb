{
  "nbformat": 4,
  "nbformat_minor": 0,
  "metadata": {
    "colab": {
      "provenance": [],
      "authorship_tag": "ABX9TyPRlcTVrMn5Z4KCdLSfU+71",
      "include_colab_link": true
    },
    "kernelspec": {
      "name": "python3",
      "display_name": "Python 3"
    },
    "language_info": {
      "name": "python"
    }
  },
  "cells": [
    {
      "cell_type": "markdown",
      "metadata": {
        "id": "view-in-github",
        "colab_type": "text"
      },
      "source": [
        "<a href=\"https://colab.research.google.com/github/COAP230023/atividade-praticas-em-numpy-AgeuGuedes/blob/main/Pratica01.ipynb\" target=\"_parent\"><img src=\"https://colab.research.google.com/assets/colab-badge.svg\" alt=\"Open In Colab\"/></a>"
      ]
    },
    {
      "cell_type": "markdown",
      "source": [
        "### 1. Vetor de zeros  _(fácil)_\n",
        "\n",
        "Crie um array 1D com 10 zeros usando NumPy e mostre o dtype e o shape.\n"
      ],
      "metadata": {
        "id": "nJLtw-fTDMfB"
      }
    },
    {
      "cell_type": "code",
      "execution_count": 1,
      "metadata": {
        "colab": {
          "base_uri": "https://localhost:8080/"
        },
        "id": "UFJy51WJAFAs",
        "outputId": "ee964e4f-f435-410d-f222-60a9a1ea4937"
      },
      "outputs": [
        {
          "output_type": "stream",
          "name": "stdout",
          "text": [
            "[0. 0. 0. 0. 0. 0. 0. 0. 0. 0.]\n",
            "Dtype: float64\n",
            "Shape: (10,)\n"
          ]
        }
      ],
      "source": [
        "import numpy as np\n",
        "\n",
        "array_zeros = np.zeros(10)\n",
        "\n",
        "print(array_zeros)\n",
        "print(\"Dtype:\", array_zeros.dtype)\n",
        "print(\"Shape:\", array_zeros.shape)"
      ]
    },
    {
      "cell_type": "markdown",
      "source": [
        "### 2. Vetor de uns  _(fácil)_\n",
        "\n",
        "Crie um array 1D com 10 uns e transforme-o em float64."
      ],
      "metadata": {
        "id": "Qdz1CtYLD9P4"
      }
    },
    {
      "cell_type": "code",
      "source": [
        "import numpy as np\n",
        "\n",
        "array_uns_float = np.ones(10, dtype=np.float64)\n",
        "\n",
        "print(array_uns_float)\n",
        "print(array_uns_float.dtype)\n",
        "print(array_uns_float.shape)"
      ],
      "metadata": {
        "id": "vWfpOdTaD6w-"
      },
      "execution_count": null,
      "outputs": []
    },
    {
      "cell_type": "markdown",
      "source": [
        "### 3. Sequência 0–9  _(fácil)_\n",
        "\n",
        "Crie um array com os inteiros de 0 a 9 (inclusive)."
      ],
      "metadata": {
        "id": "RVBfOHfZEbmF"
      }
    },
    {
      "cell_type": "code",
      "source": [
        "import numpy as np\n",
        "\n",
        "array_sequencia = np.arange(10)\n",
        "\n",
        "print(array_sequencia)"
      ],
      "metadata": {
        "colab": {
          "base_uri": "https://localhost:8080/"
        },
        "id": "gSwvRly0EYml",
        "outputId": "90e50834-86eb-422d-dace-540b755bf581"
      },
      "execution_count": 2,
      "outputs": [
        {
          "output_type": "stream",
          "name": "stdout",
          "text": [
            "[0 1 2 3 4 5 6 7 8 9]\n"
          ]
        }
      ]
    },
    {
      "cell_type": "markdown",
      "source": [
        "### 4. Matriz 3×3 com 0…8  _(fácil)_\n",
        "\n",
        "Crie um array 3×3 com os valores 0…8 (reshape)."
      ],
      "metadata": {
        "id": "ZjCbk5c2Exr4"
      }
    },
    {
      "cell_type": "code",
      "source": [
        "import numpy as np\n",
        "\n",
        "matriz_3x3 = np.arange(9).reshape(3, 3)\n",
        "\n",
        "print(matriz_3x3)"
      ],
      "metadata": {
        "id": "3VJ6qr3dEwsC"
      },
      "execution_count": null,
      "outputs": []
    },
    {
      "cell_type": "markdown",
      "source": [
        "### 5. Índices não zero  _(fácil)_\n",
        "\n",
        "Dado o vetor `v = np.array([1,2,0,0,4,0])`, encontre os índices dos elementos não nulos."
      ],
      "metadata": {
        "id": "zY9RIoc0FK3N"
      }
    },
    {
      "cell_type": "code",
      "source": [
        "import numpy as np\n",
        "\n",
        "v = np.array([1, 2, 0, 0, 4, 0])\n",
        "indices_nao_zero = np.nonzero(v)\n",
        "\n",
        "print(indices_nao_zero)"
      ],
      "metadata": {
        "id": "K-CRias5FJud"
      },
      "execution_count": null,
      "outputs": []
    },
    {
      "cell_type": "markdown",
      "source": [
        "### 6. Linspace  _(fácil)_\n",
        "\n",
        "Crie um vetor de 12 pontos igualmente espaçados no intervalo [0, 1]."
      ],
      "metadata": {
        "id": "ARx9xxSZFT7T"
      }
    },
    {
      "cell_type": "code",
      "source": [
        "import numpy as np\n",
        "\n",
        "vetor_linspace = np.linspace(0, 1, 12)\n",
        "\n",
        "print(vetor_linspace)"
      ],
      "metadata": {
        "id": "--IX-ONjFUP8"
      },
      "execution_count": null,
      "outputs": []
    },
    {
      "cell_type": "markdown",
      "source": [
        "### 7. Identidade 5×5  _(fácil)_\n",
        "\n",
        "Crie uma matriz identidade de ordem 5."
      ],
      "metadata": {
        "id": "Ra31HbGFGMW4"
      }
    },
    {
      "cell_type": "code",
      "source": [
        "import numpy as np\n",
        "\n",
        "matriz_identidade_5x5 = np.eye(5)\n",
        "\n",
        "print(matriz_identidade_5x5)"
      ],
      "metadata": {
        "id": "3E8SuD6_GMwX"
      },
      "execution_count": null,
      "outputs": []
    }
  ]
}