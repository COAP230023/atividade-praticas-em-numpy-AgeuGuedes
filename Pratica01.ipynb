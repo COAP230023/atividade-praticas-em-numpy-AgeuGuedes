{
  "nbformat": 4,
  "nbformat_minor": 0,
  "metadata": {
    "colab": {
      "provenance": [],
      "authorship_tag": "ABX9TyO4NsqFSbJ8wW7qW9qHbFf1",
      "include_colab_link": true
    },
    "kernelspec": {
      "name": "python3",
      "display_name": "Python 3"
    },
    "language_info": {
      "name": "python"
    }
  },
  "cells": [
    {
      "cell_type": "markdown",
      "metadata": {
        "id": "view-in-github",
        "colab_type": "text"
      },
      "source": [
        "<a href=\"https://colab.research.google.com/github/COAP230023/atividade-praticas-em-numpy-AgeuGuedes/blob/main/Pratica01.ipynb\" target=\"_parent\"><img src=\"https://colab.research.google.com/assets/colab-badge.svg\" alt=\"Open In Colab\"/></a>"
      ]
    },
    {
      "cell_type": "markdown",
      "source": [
        "### 1. Vetor de zeros  _(fácil)_\n",
        "\n",
        "Crie um array 1D com 10 zeros usando NumPy e mostre o dtype e o shape.\n"
      ],
      "metadata": {
        "id": "nJLtw-fTDMfB"
      }
    },
    {
      "cell_type": "code",
      "execution_count": null,
      "metadata": {
        "colab": {
          "base_uri": "https://localhost:8080/"
        },
        "id": "UFJy51WJAFAs",
        "outputId": "ee964e4f-f435-410d-f222-60a9a1ea4937"
      },
      "outputs": [
        {
          "output_type": "stream",
          "name": "stdout",
          "text": [
            "[0. 0. 0. 0. 0. 0. 0. 0. 0. 0.]\n",
            "Dtype: float64\n",
            "Shape: (10,)\n"
          ]
        }
      ],
      "source": [
        "import numpy as np\n",
        "\n",
        "array_zeros = np.zeros(10)\n",
        "\n",
        "print(array_zeros)\n",
        "print(\"Dtype:\", array_zeros.dtype)\n",
        "print(\"Shape:\", array_zeros.shape)"
      ]
    },
    {
      "cell_type": "markdown",
      "source": [
        "### 2. Vetor de uns  _(fácil)_\n",
        "\n",
        "Crie um array 1D com 10 uns e transforme-o em float64."
      ],
      "metadata": {
        "id": "Qdz1CtYLD9P4"
      }
    },
    {
      "cell_type": "code",
      "source": [
        "import numpy as np\n",
        "\n",
        "array_uns_float = np.ones(10, dtype=np.float64)\n",
        "\n",
        "print(array_uns_float)\n",
        "print(array_uns_float.dtype)\n",
        "print(array_uns_float.shape)"
      ],
      "metadata": {
        "id": "vWfpOdTaD6w-"
      },
      "execution_count": null,
      "outputs": []
    },
    {
      "cell_type": "markdown",
      "source": [
        "### 3. Sequência 0–9  _(fácil)_\n",
        "\n",
        "Crie um array com os inteiros de 0 a 9 (inclusive)."
      ],
      "metadata": {
        "id": "RVBfOHfZEbmF"
      }
    },
    {
      "cell_type": "code",
      "source": [
        "import numpy as np\n",
        "\n",
        "array_sequencia = np.arange(10)\n",
        "\n",
        "print(array_sequencia)"
      ],
      "metadata": {
        "colab": {
          "base_uri": "https://localhost:8080/"
        },
        "id": "gSwvRly0EYml",
        "outputId": "90e50834-86eb-422d-dace-540b755bf581"
      },
      "execution_count": null,
      "outputs": [
        {
          "output_type": "stream",
          "name": "stdout",
          "text": [
            "[0 1 2 3 4 5 6 7 8 9]\n"
          ]
        }
      ]
    },
    {
      "cell_type": "markdown",
      "source": [
        "### 4. Matriz 3×3 com 0…8  _(fácil)_\n",
        "\n",
        "Crie um array 3×3 com os valores 0…8 (reshape)."
      ],
      "metadata": {
        "id": "ZjCbk5c2Exr4"
      }
    },
    {
      "cell_type": "code",
      "source": [
        "import numpy as np\n",
        "\n",
        "matriz_3x3 = np.arange(9).reshape(3, 3)\n",
        "\n",
        "print(matriz_3x3)"
      ],
      "metadata": {
        "id": "3VJ6qr3dEwsC"
      },
      "execution_count": null,
      "outputs": []
    },
    {
      "cell_type": "markdown",
      "source": [
        "### 5. Índices não zero  _(fácil)_\n",
        "\n",
        "Dado o vetor `v = np.array([1,2,0,0,4,0])`, encontre os índices dos elementos não nulos."
      ],
      "metadata": {
        "id": "zY9RIoc0FK3N"
      }
    },
    {
      "cell_type": "code",
      "source": [
        "import numpy as np\n",
        "\n",
        "v = np.array([1, 2, 0, 0, 4, 0])\n",
        "indices_nao_zero = np.nonzero(v)\n",
        "\n",
        "print(indices_nao_zero)"
      ],
      "metadata": {
        "id": "K-CRias5FJud"
      },
      "execution_count": null,
      "outputs": []
    },
    {
      "cell_type": "markdown",
      "source": [
        "### 6. Linspace  _(fácil)_\n",
        "\n",
        "Crie um vetor de 12 pontos igualmente espaçados no intervalo [0, 1]."
      ],
      "metadata": {
        "id": "ARx9xxSZFT7T"
      }
    },
    {
      "cell_type": "code",
      "source": [
        "import numpy as np\n",
        "\n",
        "vetor_linspace = np.linspace(0, 1, 12)\n",
        "\n",
        "print(vetor_linspace)"
      ],
      "metadata": {
        "id": "--IX-ONjFUP8"
      },
      "execution_count": null,
      "outputs": []
    },
    {
      "cell_type": "markdown",
      "source": [
        "### 7. Identidade 5×5  _(fácil)_\n",
        "\n",
        "Crie uma matriz identidade de ordem 5."
      ],
      "metadata": {
        "id": "Ra31HbGFGMW4"
      }
    },
    {
      "cell_type": "code",
      "source": [
        "import numpy as np\n",
        "\n",
        "matriz_identidade_5x5 = np.eye(5)\n",
        "\n",
        "print(matriz_identidade_5x5)"
      ],
      "metadata": {
        "id": "3E8SuD6_GMwX"
      },
      "execution_count": null,
      "outputs": []
    },
    {
      "cell_type": "markdown",
      "source": [
        "### 8. Aleatórios 3×3×3  _(fácil)_\n",
        "\n",
        "Gere um array 3×3×3 com valores aleatórios uniformes em [0,1). Use `np.random.default_rng(42)`."
      ],
      "metadata": {
        "id": "EgAw5ME3Kju_"
      }
    },
    {
      "cell_type": "code",
      "source": [
        "import numpy as np\n",
        "\n",
        "rng = np.random.default_rng(42)\n",
        "array_aleatorio_3x3x3 = rng.random((3, 3, 3))\n",
        "\n",
        "print(array_aleatorio_3x3x3)"
      ],
      "metadata": {
        "id": "qbytj5hZKnZ-"
      },
      "execution_count": null,
      "outputs": []
    },
    {
      "cell_type": "markdown",
      "source": [
        "### 9. Min/Max  _(fácil)_\n",
        "\n",
        "Crie uma matriz 10×10 de aleatórios uniformes e mostre o valor mínimo e máximo."
      ],
      "metadata": {
        "id": "Q3Tq0zDIKsk_"
      }
    },
    {
      "cell_type": "code",
      "source": [
        "import numpy as np\n",
        "\n",
        "rng = np.random.default_rng()\n",
        "matriz_10x10 = rng.random((10, 10))\n",
        "\n",
        "valor_minimo = matriz_10x10.min()\n",
        "valor_maximo = matriz_10x10.max()\n",
        "\n",
        "print(\"Matriz (amostra):\\n\", matriz_10x10[:2, :2])\n",
        "print(\"Valor Mínimo:\", valor_minimo)\n",
        "print(\"Valor Máximo:\", valor_maximo)"
      ],
      "metadata": {
        "id": "bPFEqaSMKs5G"
      },
      "execution_count": null,
      "outputs": []
    },
    {
      "cell_type": "markdown",
      "source": [
        "### 10. Padronização 1D  _(fácil)_\n",
        "\n",
        "Dado `x = [1,2,3,4,5]`, crie um array float e normalize para média 0 e desvio 1."
      ],
      "metadata": {
        "id": "--natk0fLAv4"
      }
    },
    {
      "cell_type": "code",
      "source": [
        "import numpy as np\n",
        "\n",
        "x = np.array([1, 2, 3, 4, 5], dtype=np.float64)\n",
        "\n",
        "media = x.mean()\n",
        "desvio_padrao = x.std()\n",
        "\n",
        "x_normalizado = (x - media) / desvio_padrao\n",
        "\n",
        "print(x_normalizado)\n",
        "print(\"Média (aprox.):\", x_normalizado.mean())\n",
        "print(\"Desvio Padrão (aprox.):\", x_normalizado.std())"
      ],
      "metadata": {
        "colab": {
          "base_uri": "https://localhost:8080/"
        },
        "id": "UJ56Ee3wLMJ6",
        "outputId": "e9fd6065-a6cc-48a7-f19c-cfcac7f8bb89"
      },
      "execution_count": null,
      "outputs": [
        {
          "output_type": "stream",
          "name": "stdout",
          "text": [
            "[-1.41421356 -0.70710678  0.          0.70710678  1.41421356]\n",
            "Média (aprox.): 0.0\n",
            "Desvio Padrão (aprox.): 0.9999999999999999\n"
          ]
        }
      ]
    },
    {
      "cell_type": "markdown",
      "source": [
        "### 11. Conversão de tipos  _(fácil)_\n",
        "\n",
        "Converta `np.array([1,2,3])` (int32) para float32 e depois para int64."
      ],
      "metadata": {
        "id": "krW0x4U1Liw7"
      }
    },
    {
      "cell_type": "code",
      "source": [
        "import numpy as np\n",
        "\n",
        "array_original = np.array([1, 2, 3], dtype=np.int32)\n",
        "\n",
        "array_float32 = array_original.astype(np.float32)\n",
        "\n",
        "array_int64 = array_float32.astype(np.int64)\n",
        "\n",
        "print(\"Original (int32):\", array_original, array_original.dtype)\n",
        "print(\"Para float32:\", array_float32, array_float32.dtype)\n",
        "print(\"Para int64:\", array_int64, array_int64.dtype)"
      ],
      "metadata": {
        "colab": {
          "base_uri": "https://localhost:8080/"
        },
        "id": "jrF9mjuCLoKO",
        "outputId": "1833ddd9-4c6f-425a-aba8-503a026066e2"
      },
      "execution_count": null,
      "outputs": [
        {
          "output_type": "stream",
          "name": "stdout",
          "text": [
            "Original (int32): [1 2 3] int32\n",
            "Para float32: [1. 2. 3.] float32\n",
            "Para int64: [1 2 3] int64\n"
          ]
        }
      ]
    },
    {
      "cell_type": "markdown",
      "source": [
        "### 12. Clipping  _(fácil)_\n",
        "\n",
        "Dado `a = [2, 5, 7, 1, 9]`, limite os valores ao intervalo [0,5] (valores acima de 5 tornam-se 5)."
      ],
      "metadata": {
        "id": "PDbuKSnZL_Mw"
      }
    },
    {
      "cell_type": "code",
      "source": [
        "import numpy as np\n",
        "\n",
        "a = np.array([2, 5, 7, 1, 9])\n",
        "a_clipped = np.clip(a, 0, 5)\n",
        "\n",
        "print(a_clipped)"
      ],
      "metadata": {
        "id": "4eu1YH40MBOZ"
      },
      "execution_count": null,
      "outputs": []
    },
    {
      "cell_type": "markdown",
      "source": [
        "### 13. Inversão  _(fácil)_\n",
        "\n",
        "Crie um vetor de 0 a 9 e inverta a ordem (sem usar `[::-1]`).\n"
      ],
      "metadata": {
        "id": "Z2dH6-KwMCK2"
      }
    },
    {
      "cell_type": "code",
      "source": [
        "import numpy as np\n",
        "\n",
        "vetor_original = np.arange(10)\n",
        "vetor_invertido = np.flip(vetor_original)\n",
        "\n",
        "print(vetor_invertido)"
      ],
      "metadata": {
        "colab": {
          "base_uri": "https://localhost:8080/"
        },
        "id": "P2cYVcaeMCn_",
        "outputId": "7a498c9a-9d29-45e2-f976-214fddbc221e"
      },
      "execution_count": null,
      "outputs": [
        {
          "output_type": "stream",
          "name": "stdout",
          "text": [
            "[9 8 7 6 5 4 3 2 1 0]\n"
          ]
        }
      ]
    },
    {
      "cell_type": "markdown",
      "source": [
        "### 14. Empilhamento  _(fácil)_\n",
        "\n",
        "Dado `a = [1,2,3]` e `b = [4,5,6]`, empilhe horizontal e verticalmente."
      ],
      "metadata": {
        "id": "EDTfsSwXBHLs"
      }
    },
    {
      "cell_type": "code",
      "source": [
        "import numpy as np\n",
        "\n",
        "a = np.array([1, 2, 3])\n",
        "b = np.array([4, 5, 6])\n",
        "\n",
        "vertical_stack = np.vstack((a, b))\n",
        "\n",
        "horizontal_stack = np.hstack((a, b))\n",
        "\n",
        "print(\"Array a:\", a)\n",
        "print(\"Array b:\", b)\n",
        "print(\"\\nEmpilhamento Vertical:\\n\", vertical_stack)\n",
        "print(\"Shape:\", vertical_stack.shape)\n",
        "print(\"\\nEmpilhamento Horizontal:\\n\", horizontal_stack)\n",
        "print(\"Shape:\", horizontal_stack.shape)"
      ],
      "metadata": {
        "colab": {
          "base_uri": "https://localhost:8080/"
        },
        "id": "Kdvvet_OBN9s",
        "outputId": "bf426ca0-d7c6-4857-8f70-8e13127d5cc8"
      },
      "execution_count": 11,
      "outputs": [
        {
          "output_type": "stream",
          "name": "stdout",
          "text": [
            "Array a: [1 2 3]\n",
            "Array b: [4 5 6]\n",
            "\n",
            "Empilhamento Vertical:\n",
            " [[1 2 3]\n",
            " [4 5 6]]\n",
            "Shape: (2, 3)\n",
            "\n",
            "Empilhamento Horizontal:\n",
            " [1 2 3 4 5 6]\n",
            "Shape: (6,)\n"
          ]
        }
      ]
    },
    {
      "cell_type": "markdown",
      "source": [
        "### 15. Diagonal  _(fácil)_\n",
        "\n",
        "Crie uma matriz 4×4 com a diagonal principal igual a 5 e as demais entradas zero."
      ],
      "metadata": {
        "id": "Nepua7ELBYF9"
      }
    },
    {
      "cell_type": "code",
      "source": [
        "import numpy as np\n",
        "\n",
        "matriz_diag = 5 * np.eye(4)\n",
        "\n",
        "print(matriz_diag)"
      ],
      "metadata": {
        "id": "0_FqIjEaBZWF"
      },
      "execution_count": null,
      "outputs": []
    },
    {
      "cell_type": "markdown",
      "source": [
        "### 16. Somas por eixo  _(fácil)_\n",
        "\n",
        "Para a matriz `A = np.arange(12).reshape(3,4)`, calcule a soma por linhas e por colunas."
      ],
      "metadata": {
        "id": "TN2cvFGvBjAl"
      }
    },
    {
      "cell_type": "code",
      "source": [
        "import numpy as np\n",
        "\n",
        "A = np.arange(12).reshape(3, 4)\n",
        "\n",
        "soma_linhas = A.sum(axis=1)\n",
        "\n",
        "soma_colunas = A.sum(axis=0)\n",
        "\n",
        "print(\"Matriz A:\\n\", A)\n",
        "print(\"\\nSoma por linhas (axis=1):\", soma_linhas)\n",
        "print(\"Soma por colunas (axis=0):\", soma_colunas)"
      ],
      "metadata": {
        "id": "Z8QtZuSzBwS4"
      },
      "execution_count": null,
      "outputs": []
    },
    {
      "cell_type": "markdown",
      "source": [
        "### 17. Frequências inteiras  _(fácil)_\n",
        "\n",
        "Gere 100 inteiros aleatórios em [0,9] e conte as frequências de cada valor (0 a 9)."
      ],
      "metadata": {
        "id": "KB49rf76B2de"
      }
    },
    {
      "cell_type": "code",
      "source": [
        "import numpy as np\n",
        "\n",
        "inteiros = rng.integers(low=0, high=10, size=100)\n",
        "\n",
        "frequencias = np.bincount(inteiros, minlength=10)\n",
        "\n",
        "print(\"Primeiros 20 inteiros gerados:\", inteiros[:20])\n",
        "print(\"\\nFrequências (para 0, 1, ..., 9):\")\n",
        "print(frequencias)"
      ],
      "metadata": {
        "id": "ei4C2o0yB4Cf"
      },
      "execution_count": null,
      "outputs": []
    },
    {
      "cell_type": "markdown",
      "source": [
        "### 18. Slicing com passo  _(fácil)_\n",
        "\n",
        "Dado `v = np.arange(20)`, selecione cada 3º elemento começando do índice 1."
      ],
      "metadata": {
        "id": "ZtYajU7CCCgf"
      }
    },
    {
      "cell_type": "code",
      "source": [
        "import numpy as np\n",
        "\n",
        "v = np.arange(20)\n",
        "\n",
        "resultado = v[1::3]\n",
        "\n",
        "print(\"Vetor original:\", v)\n",
        "print(\"Cada 3º elemento a partir do índice 1:\", resultado)"
      ],
      "metadata": {
        "id": "9o-VKQh1CQNo"
      },
      "execution_count": null,
      "outputs": []
    },
    {
      "cell_type": "markdown",
      "source": [
        "### 19. Máscara booleana  _(fácil)_\n",
        "\n",
        "Crie uma máscara para números pares de `0…19` e use-a para filtrar o vetor."
      ],
      "metadata": {
        "id": "SpbkTE5RCV-g"
      }
    },
    {
      "cell_type": "code",
      "source": [
        "import numpy as np\n",
        "\n",
        "v = np.arange(20)\n",
        "\n",
        "mascara_par = (v % 2 == 0)\n",
        "\n",
        "vetor_pares = v[mascara_par]\n",
        "\n",
        "print(\"Vetor original:\", v)\n",
        "print(\"Máscara (Par?):\", mascara_par)\n",
        "print(\"Vetor filtrado (só pares):\", vetor_pares)"
      ],
      "metadata": {
        "id": "T7wuY0YDCY9Y"
      },
      "execution_count": null,
      "outputs": []
    },
    {
      "cell_type": "markdown",
      "source": [
        "### 20. Lista de listas → array  _(fácil)_\n",
        "\n",
        "Converta `[[1,2,3],[4,5,6]]` em `ndarray`, verifique `shape` e `dtype`."
      ],
      "metadata": {
        "id": "5oiMtm_ICgOZ"
      }
    },
    {
      "cell_type": "code",
      "source": [
        "import numpy as np\n",
        "\n",
        "lista_de_listas = [[1, 2, 3], [4, 5, 6]]\n",
        "\n",
        "meu_array = np.array(lista_de_listas)\n",
        "\n",
        "print(\"Array NumPy:\\n\", meu_array)\n",
        "print(\"Shape:\", meu_array.shape)\n",
        "print(\"Dtype:\", meu_array.dtype)"
      ],
      "metadata": {
        "id": "2i7Vdc92CkKj"
      },
      "execution_count": null,
      "outputs": []
    },
    {
      "cell_type": "markdown",
      "source": [
        "### 21. Datas básicas  _(fácil)_\n",
        "\n",
        "Crie um array de datas diárias de 2025-01-01 a 2025-01-07 (inclusive).\n"
      ],
      "metadata": {
        "id": "VfT85Y2gCo5s"
      }
    },
    {
      "cell_type": "code",
      "source": [
        "import numpy as np\n",
        "\n",
        "datas = np.arange('2025-01-01', '2025-01-08', dtype='datetime64[D]')\n",
        "\n",
        "print(datas)"
      ],
      "metadata": {
        "id": "MbbGV_HgCqxS"
      },
      "execution_count": null,
      "outputs": []
    },
    {
      "cell_type": "markdown",
      "source": [
        "### 22. Centralizar colunas  _(fácil)_\n",
        "\n",
        "Dada `A = np.array([[1.,2.,3.],[4.,5.,6.]])`, subtraia a média de cada coluna."
      ],
      "metadata": {
        "id": "LGglxz-gCw0q"
      }
    },
    {
      "cell_type": "code",
      "source": [
        "import numpy as np\n",
        "\n",
        "A = np.array([[1., 2., 3.], [4., 5., 6.]])\n",
        "\n",
        "media_colunas = A.mean(axis=0)\n",
        "\n",
        "A_centralizado = A - media_colunas\n",
        "\n",
        "print(\"Matriz Original:\\n\", A)\n",
        "print(\"\\nMédia das colunas:\", media_colunas)\n",
        "print(\"\\nMatriz Centralizada:\\n\", A_centralizado)\n",
        "print(\"\\nNova média das colunas (deve ser ~0):\\n\", A_centralizado.mean(axis=0))"
      ],
      "metadata": {
        "id": "mOejYV0lCzc9"
      },
      "execution_count": null,
      "outputs": []
    },
    {
      "cell_type": "markdown",
      "source": [
        "### 23. Produto elemento-a-elemento vs. escalar  _(fácil)_\n",
        "\n",
        "Dadas `a=[1,2,3]` e `b=[4,5,6]`, calcule produto elemento a elemento e o produto escalar."
      ],
      "metadata": {
        "id": "BKxZa7g-C5cy"
      }
    },
    {
      "cell_type": "code",
      "source": [
        "import numpy as np\n",
        "\n",
        "a = np.array([1, 2, 3])\n",
        "b = np.array([4, 5, 6])\n",
        "\n",
        "produto_elemento = a * b\n",
        "\n",
        "produto_escalar = np.dot(a, b)\n",
        "\n",
        "print(\"Array a:\", a)\n",
        "print(\"Array b:\", b)\n",
        "print(\"\\nProduto Elemento-a-Elemento (a * b):\", produto_elemento)\n",
        "print(\"Produto Escalar (np.dot(a, b)):\", produto_escalar)"
      ],
      "metadata": {
        "colab": {
          "base_uri": "https://localhost:8080/"
        },
        "id": "BLF1olqeC9XK",
        "outputId": "7992bb02-9abe-4612-c89a-731ea515ff79"
      },
      "execution_count": 12,
      "outputs": [
        {
          "output_type": "stream",
          "name": "stdout",
          "text": [
            "Array a: [1 2 3]\n",
            "Array b: [4 5 6]\n",
            "\n",
            "Produto Elemento-a-Elemento (a * b): [ 4 10 18]\n",
            "Produto Escalar (np.dot(a, b)): 32\n"
          ]
        }
      ]
    },
    {
      "cell_type": "markdown",
      "source": [
        "### 24. Troca de colunas  _(fácil)_\n",
        "\n",
        "Troque as colunas 0 e 2 de `A = np.arange(12).reshape(3,4)` sem copiar (sempre que possível)."
      ],
      "metadata": {
        "id": "KiNlsVAIDCrL"
      }
    },
    {
      "cell_type": "code",
      "source": [
        "import numpy as np\n",
        "\n",
        "A = np.arange(12).reshape(3, 4)\n",
        "print(\"Matriz Original:\\n\", A)\n",
        "\n",
        "A[:, [0, 2]] = A[:, [2, 0]]\n",
        "\n",
        "print(\"\\nMatriz com colunas 0 e 2 trocadas:\\n\", A)"
      ],
      "metadata": {
        "colab": {
          "base_uri": "https://localhost:8080/"
        },
        "id": "ptHt6Zd8DFqz",
        "outputId": "a00b3022-9146-4a82-91f2-831ae8df34fe"
      },
      "execution_count": 10,
      "outputs": [
        {
          "output_type": "stream",
          "name": "stdout",
          "text": [
            "Matriz Original:\n",
            " [[ 0  1  2  3]\n",
            " [ 4  5  6  7]\n",
            " [ 8  9 10 11]]\n",
            "\n",
            "Matriz com colunas 0 e 2 trocadas:\n",
            " [[ 2  1  0  3]\n",
            " [ 6  5  4  7]\n",
            " [10  9  8 11]]\n"
          ]
        }
      ]
    },
    {
      "cell_type": "markdown",
      "source": [
        "### 25. Flatten vs. ravel  _(médio)_\n",
        "\n",
        "Mostre a diferença entre `flatten()` (cópia) e `ravel()` (view quando possível). Modifique o resultado de `ravel()` e observe o original."
      ],
      "metadata": {
        "id": "zMXyYhUdDXEk"
      }
    },
    {
      "cell_type": "code",
      "source": [
        "import numpy as np\n",
        "\n",
        "A = np.arange(6).reshape(2, 3)\n",
        "print(\"Matriz Original A:\\n\", A)\n",
        "\n",
        "print(\"\\n--- Testando ravel() ---\")\n",
        "r = A.ravel()\n",
        "r[0] = 99\n",
        "print(\"A foi modificado? (Sim):\\n\", A)\n",
        "\n",
        "A[0, 0] = 0\n",
        "print(\"\\nMatriz A resetada:\\n\", A)\n",
        "\n",
        "print(\"\\n--- Testando flatten() ---\")\n",
        "f = A.flatten()\n",
        "f[0] = 77\n",
        "print(\"A foi modificado? (Não):\\n\", A)\n",
        "print(\"Array 'f' (a cópia):\\n\", f)"
      ],
      "metadata": {
        "colab": {
          "base_uri": "https://localhost:8080/"
        },
        "id": "lPEEfEAzDZG0",
        "outputId": "0c1c7103-3eaa-4000-943b-c8e6d40dde81"
      },
      "execution_count": 9,
      "outputs": [
        {
          "output_type": "stream",
          "name": "stdout",
          "text": [
            "Matriz Original A:\n",
            " [[0 1 2]\n",
            " [3 4 5]]\n",
            "\n",
            "--- Testando ravel() ---\n",
            "A foi modificado? (Sim):\n",
            " [[99  1  2]\n",
            " [ 3  4  5]]\n",
            "\n",
            "Matriz A resetada:\n",
            " [[0 1 2]\n",
            " [3 4 5]]\n",
            "\n",
            "--- Testando flatten() ---\n",
            "A foi modificado? (Não):\n",
            " [[0 1 2]\n",
            " [3 4 5]]\n",
            "Array 'f' (a cópia):\n",
            " [77  1  2  3  4  5]\n"
          ]
        }
      ]
    },
    {
      "cell_type": "markdown",
      "source": [
        "### 26. Tabuleiro 8×8  _(médio)_\n",
        "\n",
        "Crie uma matriz 8×8 com padrão de tabuleiro (0 e 1 alternados)."
      ],
      "metadata": {
        "id": "qNuHo2CuDn3x"
      }
    },
    {
      "cell_type": "code",
      "source": [
        "import numpy as np\n",
        "\n",
        "tabuleiro = np.zeros((8, 8), dtype=int)\n",
        "\n",
        "tabuleiro[1::2, ::2] = 1\n",
        "\n",
        "tabuleiro[::2, 1::2] = 1\n",
        "\n",
        "print(tabuleiro)"
      ],
      "metadata": {
        "colab": {
          "base_uri": "https://localhost:8080/"
        },
        "id": "5vt9lWMsDpne",
        "outputId": "5e60aab9-e06b-4a72-b7dc-3f9ed5ec719b"
      },
      "execution_count": 8,
      "outputs": [
        {
          "output_type": "stream",
          "name": "stdout",
          "text": [
            "[[0 1 0 1 0 1 0 1]\n",
            " [1 0 1 0 1 0 1 0]\n",
            " [0 1 0 1 0 1 0 1]\n",
            " [1 0 1 0 1 0 1 0]\n",
            " [0 1 0 1 0 1 0 1]\n",
            " [1 0 1 0 1 0 1 0]\n",
            " [0 1 0 1 0 1 0 1]\n",
            " [1 0 1 0 1 0 1 0]]\n"
          ]
        }
      ]
    },
    {
      "cell_type": "markdown",
      "source": [
        "### 27. np.where condicional  _(médio)_\n",
        "\n",
        "Dado `x = np.arange(-5,6)`, substitua negativos por 0 e mantenha não-negativos."
      ],
      "metadata": {
        "id": "91bNSQTYEbo5"
      }
    },
    {
      "cell_type": "code",
      "source": [
        "import numpy as np\n",
        "\n",
        "x = np.arange(-5, 6)\n",
        "\n",
        "resultado = np.where(x < 0, 0, x)\n",
        "\n",
        "print(\"Vetor Original:\", x)\n",
        "print(\"Vetor modificado:\", resultado)"
      ],
      "metadata": {
        "colab": {
          "base_uri": "https://localhost:8080/"
        },
        "id": "E66DxemTEcry",
        "outputId": "a8261fd1-767e-4549-d36c-7633204cfe2f"
      },
      "execution_count": 5,
      "outputs": [
        {
          "output_type": "stream",
          "name": "stdout",
          "text": [
            "Vetor Original: [-5 -4 -3 -2 -1  0  1  2  3  4  5]\n",
            "Vetor modificado: [0 0 0 0 0 0 1 2 3 4 5]\n"
          ]
        }
      ]
    },
    {
      "cell_type": "markdown",
      "source": [
        "### 28. Precisão de média  _(médio)_\n",
        "\n",
        "Gere 1_000_000 floats uniformes em [0,1) e compute a média. Compare com o valor teórico 0.5 (erro absoluto)."
      ],
      "metadata": {
        "id": "sI66dSRyEkkw"
      }
    },
    {
      "cell_type": "code",
      "source": [
        "import numpy as np\n",
        "\n",
        "rng = np.random.default_rng(seed=42)\n",
        "\n",
        "dados = rng.random(1_000_000)\n",
        "\n",
        "media_calculada = dados.mean()\n",
        "valor_teorico = 0.5\n",
        "\n",
        "erro_abs = np.abs(media_calculada - valor_teorico)\n",
        "\n",
        "print(f\"Total de números: {len(dados)}\")\n",
        "print(f\"Média calculada: {media_calculada}\")\n",
        "print(f\"Valor teórico:   {valor_teorico}\")\n",
        "print(f\"Erro absoluto:   {erro_abs}\")"
      ],
      "metadata": {
        "id": "oMmJXWJOEn_K"
      },
      "execution_count": null,
      "outputs": []
    },
    {
      "cell_type": "markdown",
      "source": [
        "### 29. Produto cartesiano (broadcasting)  _(médio)_\n",
        "\n",
        "Dado `a=[1,2,3]` e `b=[10,20,30,40]`, gere todas as somas possíveis `a_i + b_j` via broadcasting (matriz 3×4)."
      ],
      "metadata": {
        "id": "iHESm99ZEsH6"
      }
    },
    {
      "cell_type": "code",
      "source": [
        "import numpy as np\n",
        "\n",
        "a = np.array([1, 2, 3])\n",
        "b = np.array([10, 20, 30, 40])\n",
        "\n",
        "a_coluna = a[:, np.newaxis]\n",
        "\n",
        "somas_broadcast = a_coluna + b\n",
        "\n",
        "print(\"a (coluna 3x1):\\n\", a_coluna)\n",
        "print(\"\\nb (linha 1x4):\", b)\n",
        "print(\"\\nSomas (broadcasting 3x4):\\n\", somas_broadcast)"
      ],
      "metadata": {
        "id": "aEQYgcIEEvBp"
      },
      "execution_count": null,
      "outputs": []
    },
    {
      "cell_type": "markdown",
      "source": [
        "### 30. Convolução 1D simples  _(médio)_\n",
        "\n",
        "Implemente uma convolução 1D 'valid' de um sinal `s` por um kernel `k` usando `np.flip` e `np.lib.stride_tricks.sliding_window_view` (sem `np.convolve`)."
      ],
      "metadata": {
        "id": "7tmSNDnIExTq"
      }
    },
    {
      "cell_type": "code",
      "source": [
        "import numpy as np\n",
        "from numpy.lib.stride_tricks import sliding_window_view\n",
        "\n",
        "sinal = np.array([1, 2, 3, 4, 5, 6])\n",
        "kernel = np.array([1, 0, -1])\n",
        "\n",
        "kernel_invertido = np.flip(kernel)\n",
        "\n",
        "tamanho_kernel = len(kernel)\n",
        "janelas = sliding_window_view(sinal, window_shape=tamanho_kernel)\n",
        "\n",
        "conv_valid = janelas @ kernel_invertido\n",
        "\n",
        "print(\"Sinal:\", sinal)\n",
        "print(\"Kernel:\", kernel)\n",
        "print(\"Janelas (views):\\n\", janelas)\n",
        "print(\"Kernel invertido:\", kernel_invertido)\n",
        "print(\"\\nResultado da Convolução 'valid':\", conv_valid)"
      ],
      "metadata": {
        "id": "06zx8ZLmE0Ca"
      },
      "execution_count": null,
      "outputs": []
    },
    {
      "cell_type": "markdown",
      "source": [
        "### 31. Normalização min–max por coluna  _(médio)_\n",
        "\n",
        "Dada `A = rng.normal(size=(5,4))`, normalize cada coluna para o intervalo [0,1], tratando colunas constantes."
      ],
      "metadata": {
        "id": "MnYBy-4iE23R"
      }
    },
    {
      "cell_type": "code",
      "source": [
        "import numpy as np\n",
        "\n",
        "rng = np.random.default_rng(seed=42)\n",
        "\n",
        "A = rng.normal(size=(5, 4))\n",
        "print(\"Matriz Original A:\\n\", A)\n",
        "\n",
        "col_min = A.min(axis=0)\n",
        "col_max = A.max(axis=0)\n",
        "\n",
        "col_range = col_max - col_min\n",
        "\n",
        "col_range[col_range == 0] = 1\n",
        "\n",
        "A_norm = (A - col_min) / col_range\n",
        "\n",
        "print(\"\\nMínimos por coluna:\", col_min)\n",
        "print(\"Máximos por coluna:\", col_max)\n",
        "print(\"\\nMatriz Normalizada [0, 1]:\\n\", A_norm)\n",
        "\n",
        "print(\"\\nNovo Mínimo (deve ser 0):\", A_norm.min(axis=0))\n",
        "print(\"Novo Máximo (deve ser 1):\", A_norm.max(axis=0))"
      ],
      "metadata": {
        "id": "oOSaNDOsFhUl"
      },
      "execution_count": null,
      "outputs": []
    },
    {
      "cell_type": "markdown",
      "source": [
        "### 32. Ordenar por coluna  _(médio)_\n",
        "\n",
        "Ordene as linhas de `A = np.array([[3,9],[1,4],[2,5]])` pelo valor crescente da 2ª coluna.\n"
      ],
      "metadata": {
        "id": "uMI2L_eGFjMr"
      }
    },
    {
      "cell_type": "code",
      "source": [
        "import numpy as np\n",
        "\n",
        "A = np.array([[3, 9], [1, 4], [2, 5]])\n",
        "print(\"Matriz Original A:\\n\", A)\n",
        "\n",
        "coluna_ordenacao = A[:, 1]\n",
        "\n",
        "indices_ordenados = np.argsort(coluna_ordenacao)\n",
        "\n",
        "A_ordenado = A[indices_ordenados]\n",
        "\n",
        "print(\"\\nÍndices ordenados (da 2ª col):\", indices_ordenados)\n",
        "print(\"\\nMatriz ordenada pela 2ª coluna:\\n\", A_ordenado)"
      ],
      "metadata": {
        "id": "qMuhQVQoFnKk"
      },
      "execution_count": null,
      "outputs": []
    },
    {
      "cell_type": "markdown",
      "source": [
        "### 33. Únicos + contagens + primeira ocorrência  _(médio)_\n",
        "\n",
        "Para `x = [3,1,2,3,2,3,1]`, obtenha valores únicos, contagens e índice da primeira ocorrência de cada valor."
      ],
      "metadata": {
        "id": "Kj_rXwSdFrM8"
      }
    },
    {
      "cell_type": "code",
      "source": [
        "import numpy as np\n",
        "\n",
        "x = np.array([3, 1, 2, 3, 2, 3, 1])\n",
        "\n",
        "unicos, idx_primeira, contagens = np.unique(x,\n",
        "                                           return_index=True,\n",
        "                                           return_counts=True)\n",
        "\n",
        "print(\"Vetor original:\", x)\n",
        "print(\"\\nValores únicos:\", unicos)\n",
        "print(\"Índice da primeira ocorrência:\", idx_primeira)\n",
        "print(\"Contagem de cada valor:\", contagens)"
      ],
      "metadata": {
        "id": "KFPqlXm4Fr48"
      },
      "execution_count": null,
      "outputs": []
    },
    {
      "cell_type": "markdown",
      "source": [
        "### 34. Matriz de distâncias 2D  _(médio)_\n",
        "\n",
        "Dada `P` com N pontos 2D, compute a matriz NxN de distâncias euclidianas sem loops explícitos."
      ],
      "metadata": {
        "id": "915iS-1CFwoO"
      }
    },
    {
      "cell_type": "code",
      "source": [
        "import numpy as np\n",
        "\n",
        "rng = np.random.default_rng(seed=42)\n",
        "\n",
        "P = rng.random(size=(5, 2))\n",
        "print(\"Pontos P (Shape 5x2):\\n\", P)\n",
        "\n",
        "diff = P[:, np.newaxis, :] - P[np.newaxis, :, :]\n",
        "\n",
        "dist_sq = np.sum(diff**2, axis=-1)\n",
        "\n",
        "matriz_dist = np.sqrt(dist_sq)\n",
        "\n",
        "print(\"\\nMatriz de Distâncias Euclidianas (5x5):\\n\", matriz_dist)"
      ],
      "metadata": {
        "id": "lfvPa3x-FxPM"
      },
      "execution_count": null,
      "outputs": []
    },
    {
      "cell_type": "markdown",
      "source": [
        "### 35. Covariância e correlação  _(médio)_\n",
        "\n",
        "Simule uma matriz 1000×3 de N(0,1) e compute `cov` (colunas como variáveis) e `corrcoef`."
      ],
      "metadata": {
        "id": "keaLvEGiF0Cw"
      }
    },
    {
      "cell_type": "code",
      "source": [
        "import numpy as np\n",
        "\n",
        "rng = np.random.default_rng(seed=42)\n",
        "\n",
        "X = rng.normal(size=(1000, 3))\n",
        "\n",
        "matriz_cov = np.cov(X, rowvar=False)\n",
        "\n",
        "matriz_corr = np.corrcoef(X, rowvar=False)\n",
        "\n",
        "print(f\"Shape de X (observações, variáveis): {X.shape}\")\n",
        "print(\"\\nMatriz de Covariância (3x3):\\n\", matriz_cov)\n",
        "print(\"\\nMatriz de Correlação (3x3):\\n\", matriz_corr)"
      ],
      "metadata": {
        "id": "8wZiCyWUF5oE"
      },
      "execution_count": null,
      "outputs": []
    },
    {
      "cell_type": "markdown",
      "source": [
        "### 36. One-hot encoding  _(médio)_\n",
        "\n",
        "Converta os rótulos `y = [2,0,1,2]` em codificação one-hot usando apenas operações NumPy."
      ],
      "metadata": {
        "id": "TKbdn5UIF8Dl"
      }
    },
    {
      "cell_type": "code",
      "source": [
        "import numpy as np\n",
        "\n",
        "y = np.array([2, 0, 1, 2])\n",
        "print(\"Rótulos (y):\", y)\n",
        "\n",
        "num_classes = np.max(y) + 1\n",
        "num_amostras = len(y)\n",
        "\n",
        "one_hot = np.zeros((num_amostras, num_classes), dtype=int)\n",
        "\n",
        "one_hot[np.arange(num_amostras), y] = 1\n",
        "\n",
        "print(f\"\\nShape: ({num_amostras}, {num_classes})\")\n",
        "print(\"Codificação One-Hot:\\n\", one_hot)"
      ],
      "metadata": {
        "id": "qUYlFo8zGAVA"
      },
      "execution_count": null,
      "outputs": []
    },
    {
      "cell_type": "markdown",
      "source": [
        "### 37. k-means 2D (NumPy puro)  _(difícil)_\n",
        "\n",
        "Implemente k-means com K=3 em pontos 2D: inicialize centróides aleatórios, faça 10 iterações de (1) atribuir pontos ao centróide mais próximo e (2) recomputar centróides.\n"
      ],
      "metadata": {
        "id": "_ophmbjnGBZG"
      }
    },
    {
      "cell_type": "code",
      "source": [
        "import numpy as np\n",
        "\n",
        "rng = np.random.default_rng(seed=42)\n",
        "\n",
        "K = 3\n",
        "N_pontos = 100\n",
        "pontos = rng.random(size=(N_pontos, 2))\n",
        "\n",
        "idx_inicio = rng.choice(N_pontos, K, replace=False)\n",
        "centroides = pontos[idx_inicio]\n",
        "\n",
        "print(\"Centróides Iniciais:\\n\", centroides)\n",
        "\n",
        "for i in range(10):\n",
        "    dist = pontos[:, np.newaxis, :] - centroides[np.newaxis, :, :]\n",
        "    dist_sq = np.sum(dist**2, axis=2)\n",
        "\n",
        "    labels = np.argmin(dist_sq, axis=1)\n",
        "\n",
        "    novos_centroides = np.zeros((K, 2))\n",
        "    for k in range(K):\n",
        "        pontos_do_cluster_k = pontos[labels == k]\n",
        "        if len(pontos_do_cluster_k) > 0:\n",
        "            novos_centroides[k] = pontos_do_cluster_k.mean(axis=0)\n",
        "\n",
        "    centroides = novos_centroides\n",
        "\n",
        "print(f\"\\nCentróides Finais (após 10 iterações):\\n\", centroides)"
      ],
      "metadata": {
        "id": "FrAOa_4AGEbh"
      },
      "execution_count": null,
      "outputs": []
    },
    {
      "cell_type": "markdown",
      "source": [
        "### 38. PCA básica (autovetores)  _(difícil)_\n",
        "\n",
        "Implemente PCA 2D→1D: centralize `X` (N×2), calcule covariância, autovetores, projete em 1D e reconstrua aproximado.\n"
      ],
      "metadata": {
        "id": "kPL-qiKHGHJ5"
      }
    },
    {
      "cell_type": "code",
      "source": [
        "import numpy as np\n",
        "\n",
        "rng = np.random.default_rng(seed=42)\n",
        "\n",
        "X = rng.normal(size=(100, 2))\n",
        "X[:, 1] = X[:, 0] * 0.8 + rng.normal(size=100) * 0.3\n",
        "print(\"Shape dados X:\", X.shape)\n",
        "\n",
        "X_mean = X.mean(axis=0)\n",
        "X_centered = X - X_mean\n",
        "\n",
        "cov_matrix = np.cov(X_centered, rowvar=False)\n",
        "print(\"\\nMatriz Covariância (2x2):\\n\", cov_matrix)\n",
        "\n",
        "autovalores, autovetores = np.linalg.eigh(cov_matrix)\n",
        "print(\"\\nAutovalores:\", autovalores)\n",
        "print(\"Autovetores:\\n\", autovetores)\n",
        "\n",
        "indices_sort = np.argsort(autovalores)[::-1]\n",
        "autovetores_sorted = autovetores[:, indices_sort]\n",
        "\n",
        "W = autovetores_sorted[:, :1]\n",
        "print(\"\\n1º Componente Principal (W):\\n\", W)\n",
        "\n",
        "Z = X_centered @ W\n",
        "print(\"\\nDados Projetados (Z) (100x1) (primeiros 5):\", Z[:5].ravel())\n",
        "\n",
        "X_reconstruido_centered = Z @ W.T\n",
        "\n",
        "X_reconstruido = X_reconstruido_centered + X_mean\n",
        "print(\"\\nShape Reconstruído:\", X_reconstruido.shape)"
      ],
      "metadata": {
        "id": "yht_Hp1GGLeW"
      },
      "execution_count": null,
      "outputs": []
    },
    {
      "cell_type": "markdown",
      "source": [
        "### 39. Convolução 2D (im2col)  _(difícil)_\n",
        "\n",
        "Implemente convolução 2D 'valid' de uma imagem `I` por um kernel `K` usando `sliding_window_view` para gerar blocos e multiplicação matricial."
      ],
      "metadata": {
        "id": "z11maTEGGNyu"
      }
    },
    {
      "cell_type": "code",
      "source": [
        "import numpy as np\n",
        "from numpy.lib.stride_tricks import sliding_window_view\n",
        "\n",
        "I = np.arange(25).reshape(5, 5).astype(float)\n",
        "K = np.array([[1, 0, -1],\n",
        "              [1, 0, -1],\n",
        "              [1, 0, -1]], dtype=float)\n",
        "\n",
        "kH, kW = K.shape\n",
        "iH, iW = I.shape\n",
        "\n",
        "views = sliding_window_view(I, window_shape=(kH, kW))\n",
        "print(f\"Shape Imagem: {I.shape}\")\n",
        "print(f\"Shape Kernel: {K.shape}\")\n",
        "print(f\"Shape das Janelas (Views): {views.shape}\")\n",
        "\n",
        "K_flat = K.ravel()\n",
        "print(f\"Shape Kernel achatado: {K_flat.shape}\")\n",
        "\n",
        "views_flat = views.reshape(-1, kH * kW)\n",
        "print(f\"Shape Janelas achatadas: {views_flat.shape}\")\n",
        "\n",
        "conv_flat = views_flat @ K_flat\n",
        "\n",
        "output_shape = (iH - kH + 1, iW - kW + 1)\n",
        "conv_2d = conv_flat.reshape(output_shape)\n",
        "\n",
        "print(\"\\nConvolução 2D 'valid' (resultado):\\n\", conv_2d)"
      ],
      "metadata": {
        "id": "VOpf1OCOGOnY"
      },
      "execution_count": null,
      "outputs": []
    },
    {
      "cell_type": "markdown",
      "source": [
        "### 40. Sistemas lineares e resíduo  _(difícil)_\n",
        "\n",
        "Gere uma matriz A (100×100) bem-condicionada, um vetor b e resolva `Ax=b` com `np.linalg.solve`. Compute o resíduo relativo `||Ax−b||/||b||` e `cond(A)`."
      ],
      "metadata": {
        "id": "waDBu-puGQ1g"
      }
    },
    {
      "cell_type": "code",
      "source": [
        "import numpy as np\n",
        "\n",
        "rng = np.random.default_rng(seed=42)\n",
        "\n",
        "N = 100\n",
        "\n",
        "A = rng.random(size=(N, N)) + np.eye(N) * N\n",
        "b = rng.random(size=N)\n",
        "\n",
        "x = np.linalg.solve(A, b)\n",
        "\n",
        "residuo = (A @ x) - b\n",
        "\n",
        "norma_residuo = np.linalg.norm(residuo)\n",
        "norma_b = np.linalg.norm(b)\n",
        "residuo_relativo = norma_residuo / norma_b\n",
        "\n",
        "cond_A = np.linalg.cond(A)\n",
        "\n",
        "print(f\"Sistema N={N}\")\n",
        "print(f\"Número de Condição cond(A): {cond_A}\")\n",
        "print(f\"Norma do Resíduo ||Ax - b||: {norma_residuo}\")\n",
        "print(f\"Norma de b ||b||: {norma_b}\")\n",
        "print(f\"Resíduo Relativo ||Ax - b|| / ||b||: {residuo_relativo}\")"
      ],
      "metadata": {
        "id": "VGA4-r43GVC-"
      },
      "execution_count": null,
      "outputs": []
    },
    {
      "cell_type": "markdown",
      "source": [
        "### 41. Regressão linear (OLS) com NumPy  _(difícil)_\n",
        "\n",
        "Dado `X` (N×d) e `y`, calcule os coeficientes OLS usando `np.linalg.lstsq` e avalie RMSE no treino."
      ],
      "metadata": {
        "id": "WX40SFa5GXUm"
      }
    },
    {
      "cell_type": "code",
      "source": [
        "import numpy as np\n",
        "\n",
        "rng = np.random.default_rng(seed=42)\n",
        "\n",
        "N, d = 100, 3\n",
        "X = rng.random(size=(N, d))\n",
        "\n",
        "beta_verdadeiro = np.array([5.0, -2.0, 1.5])\n",
        "intercepto_verdadeiro = 3.0\n",
        "ruido = rng.normal(scale=0.1, size=N)\n",
        "\n",
        "y = intercepto_verdadeiro + (X @ beta_verdadeiro) + ruido\n",
        "\n",
        "X_b = np.hstack([np.ones((N, 1)), X])\n",
        "print(f\"Shape X original: {X.shape}, Shape y: {y.shape}\")\n",
        "print(f\"Shape X com intercepto (X_b): {X_b.shape}\")\n",
        "\n",
        "coefs, _, _, _ = np.linalg.lstsq(X_b, y, rcond=None)\n",
        "\n",
        "intercepto_calc = coefs[0]\n",
        "betas_calc = coefs[1:]\n",
        "\n",
        "print(\"\\n--- Resultados OLS ---\")\n",
        "print(f\"Intercepto Verdadeiro (B0): {intercepto_verdadeiro:.4f}\")\n",
        "print(f\"Intercepto Calculado: {intercepto_calc:.4f}\")\n",
        "print(f\"\\nBetas Verdadeiros (B1, B2, B3): {beta_verdadeiro}\")\n",
        "print(f\"Betas Calculados: {betas_calc}\")\n",
        "\n",
        "y_pred = X_b @ coefs\n",
        "mse = np.mean((y - y_pred)**2)\n",
        "rmse = np.sqrt(mse)\n",
        "\n",
        "print(f\"\\nRMSE (no treino): {rmse:.5f}\")"
      ],
      "metadata": {
        "colab": {
          "base_uri": "https://localhost:8080/"
        },
        "id": "204JcTcYGYA2",
        "outputId": "d6a9a829-9412-490a-a4f7-be729e0af753"
      },
      "execution_count": 6,
      "outputs": [
        {
          "output_type": "stream",
          "name": "stdout",
          "text": [
            "Shape X original: (100, 3), Shape y: (100,)\n",
            "Shape X com intercepto (X_b): (100, 4)\n",
            "\n",
            "--- Resultados OLS ---\n",
            "Intercepto Verdadeiro (B0): 3.0000\n",
            "Intercepto Calculado: 3.0109\n",
            "\n",
            "Betas Verdadeiros (B1, B2, B3): [ 5.  -2.   1.5]\n",
            "Betas Calculados: [ 5.01368109 -1.98126003  1.46262967]\n",
            "\n",
            "RMSE (no treino): 0.10147\n"
          ]
        }
      ]
    },
    {
      "cell_type": "markdown",
      "source": [
        "### 42. Rolling window 2D com strides  _(difícil)_\n",
        "\n",
        "Usando `sliding_window_view`, compute a média local 3×3 de uma imagem 2D sem laços explícitos."
      ],
      "metadata": {
        "id": "YnfvQtlIGdvO"
      }
    },
    {
      "cell_type": "code",
      "source": [
        "import numpy as np\n",
        "from numpy.lib.stride_tricks import sliding_window_view\n",
        "\n",
        "I = np.arange(36).reshape(6, 6)\n",
        "print(\"Imagem Original (6x6):\\n\", I)\n",
        "\n",
        "window_shape = (3, 3)\n",
        "\n",
        "views = sliding_window_view(I, window_shape=window_shape)\n",
        "print(\"\\nShape das Views (Janelas):\", views.shape)\n",
        "\n",
        "media_local = views.mean(axis=(2, 3))\n",
        "\n",
        "print(\"\\nMatriz de Média Local 3x3 (4x4):\\n\", media_local)"
      ],
      "metadata": {
        "colab": {
          "base_uri": "https://localhost:8080/"
        },
        "id": "644WHN5XGeqv",
        "outputId": "f665fd76-514a-41a2-a202-2364f245f3c0"
      },
      "execution_count": 7,
      "outputs": [
        {
          "output_type": "stream",
          "name": "stdout",
          "text": [
            "Imagem Original (6x6):\n",
            " [[ 0  1  2  3  4  5]\n",
            " [ 6  7  8  9 10 11]\n",
            " [12 13 14 15 16 17]\n",
            " [18 19 20 21 22 23]\n",
            " [24 25 26 27 28 29]\n",
            " [30 31 32 33 34 35]]\n",
            "\n",
            "Shape das Views (Janelas): (4, 4, 3, 3)\n",
            "\n",
            "Matriz de Média Local 3x3 (4x4):\n",
            " [[ 7.  8.  9. 10.]\n",
            " [13. 14. 15. 16.]\n",
            " [19. 20. 21. 22.]\n",
            " [25. 26. 27. 28.]]\n"
          ]
        }
      ]
    }
  ]
}